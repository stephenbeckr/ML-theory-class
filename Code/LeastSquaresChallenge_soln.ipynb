{
  "nbformat": 4,
  "nbformat_minor": 0,
  "metadata": {
    "colab": {
      "provenance": [],
      "authorship_tag": "ABX9TyO1afYLLGUBbd5ruViK/MNU",
      "include_colab_link": true
    },
    "kernelspec": {
      "name": "python3",
      "display_name": "Python 3"
    },
    "language_info": {
      "name": "python"
    }
  },
  "cells": [
    {
      "cell_type": "markdown",
      "metadata": {
        "id": "view-in-github",
        "colab_type": "text"
      },
      "source": [
        "<a href=\"https://colab.research.google.com/github/stephenbeckr/ML-theory-class/blob/solutions/LeastSquaresChallenge.ipynb\" target=\"_parent\"><img src=\"https://colab.research.google.com/assets/colab-badge.svg\" alt=\"Open In Colab\"/></a>"
      ]
    },
    {
      "cell_type": "code",
      "execution_count": null,
      "metadata": {
        "id": "cEN4W6cFVMBb"
      },
      "outputs": [],
      "source": [
        "import numpy as np\n",
        "import scipy.linalg as sla\n",
        "from timeit import default_timer as timer"
      ]
    },
    {
      "cell_type": "markdown",
      "source": [
        "# Least squares challenge\n",
        "Least squares problems are dead simple, so you probably know how to solve them, right?\n",
        "\n",
        "Below are two challenges, one with a nearly square matric, the other with a very tall matrix. We've constructed the problem so that we know what the answer is (the all ones vector).  Your job is to find the right answer such that:\n",
        "- you have at least 10 digits of accuracy, e.g., $\\|\\hat{x}-x_\\text{true}\\|_\\infty \\le 10^{-10}$\n",
        "- Find the answer quickly:\n",
        "  - For problem 1, do this in under 10 seconds (for both Python/colab and Matlab)\n",
        "  - For problem 2, do this in under 10 seconds (Matlab) or 5 seconds (Python/colab)\n",
        "\n",
        "APPM 4490/5490 Theory of Machine Learning, Prof. Becker"
      ],
      "metadata": {
        "id": "QZ1ViM_ra6MD"
      }
    },
    {
      "cell_type": "code",
      "source": [
        "# Problem 1\n",
        "rng = np.random.default_rng(12345)\n",
        "\n",
        "n   = int(5e3)\n",
        "m   = n+1\n",
        "A       = rng.standard_normal( (m,n) )\n",
        "xTrue   = np.ones(n)\n",
        "b       = A@xTrue"
      ],
      "metadata": {
        "id": "98zQtDuPVosC"
      },
      "execution_count": null,
      "outputs": []
    },
    {
      "cell_type": "code",
      "source": [
        "# Problem 2\n",
        "rng = np.random.default_rng(12345)\n",
        "\n",
        "n   = int(2e3)\n",
        "n2  = int(n/2)\n",
        "m   = int(1e4)\n",
        "A       = rng.standard_normal( (m,n2) )\n",
        "A       = np.hstack(  (A,A+1e-4*rng.standard_normal( (m,n2) )) )\n",
        "\n",
        "xTrue   = np.ones(n)\n",
        "b       = A@xTrue"
      ],
      "metadata": {
        "id": "q0V5eMkeaGxV"
      },
      "execution_count": null,
      "outputs": []
    },
    {
      "cell_type": "markdown",
      "source": [
        "## Here's the \"bad way\" to do it\n",
        "If you have just some knowledge of linear algebra, this is the most obvious way to solve it. It's actually quite fast (especially for case 2), but not accurate, because you are squaring the condition number\n",
        "- For problem 1, it takes about 15 seconds but error is only 1e-9\n",
        "- For problem 2, it's just 2.2 seconds but erorr is 2.9e-6\n"
      ],
      "metadata": {
        "id": "GqLOaGNWcpH_"
      }
    },
    {
      "cell_type": "code",
      "source": [
        "start = timer()\n",
        "\n",
        "x   = np.linalg.inv( A.T @ A ) @ (A.T@b )\n",
        "\n",
        "end = timer()\n",
        "print(f'Elapsed time is {end-start:.5f} seconds')\n",
        "err   = np.linalg.norm(x-xTrue,np.Inf)\n",
        "print(f'   and l_inf error is {err:.2e}')"
      ],
      "metadata": {
        "id": "1HeyKXuHc48f"
      },
      "execution_count": null,
      "outputs": []
    },
    {
      "cell_type": "markdown",
      "source": [
        "#### Variant\n",
        "If you insist on solving the normal equations, you can at least do it better"
      ],
      "metadata": {
        "id": "diIKb28RdE5H"
      }
    },
    {
      "cell_type": "code",
      "source": [
        "start = timer()\n",
        "\n",
        "x   = sla.solve( A.T @ A , A.T@b, assume_a='pos' )\n",
        "\n",
        "end = timer()\n",
        "print(f'Elapsed time is {end-start:.5f} seconds')\n",
        "err   = np.linalg.norm(x-xTrue,np.Inf)\n",
        "print(f'   and l_inf error is {err:.2e}')"
      ],
      "metadata": {
        "id": "BJ1X07H7dJ5F"
      },
      "execution_count": null,
      "outputs": []
    },
    {
      "cell_type": "markdown",
      "source": [
        "## Here's the \"standard way\" to do it, using builtin solvers\n",
        "\n",
        "This is a good way, and usually the most accurate.  However, under-the-hood, it does pivoting which is not necessary in our case, and that makes it slow\n",
        "- For problem 1, it takes up to 70 seconds\n",
        "- For problem 2 it's faster, taking about 8.5 seconds"
      ],
      "metadata": {
        "id": "FQ50X8M5cXOP"
      }
    },
    {
      "cell_type": "code",
      "source": [
        "start = timer()\n",
        "\n",
        "x   = np.linalg.lstsq(A,b, rcond=None)[0] # 70 seconds or so\n",
        "\n",
        "end = timer()\n",
        "print(f'Elapsed time is {end-start:.5f} seconds')\n",
        "err   = np.linalg.norm(x-xTrue,np.Inf)\n",
        "print(f'   and l_inf error is {err:.2e}')"
      ],
      "metadata": {
        "id": "gpdk1FsyV8MW"
      },
      "execution_count": null,
      "outputs": []
    },
    {
      "cell_type": "markdown",
      "source": [
        "## And here's the fast way to do it\n",
        "We'll do a QR decomposition and cancel some terms \"by hand\". This is faster than `lstsq` since we're not going to pivot\n",
        "- For problem 1, about 16 seconds and 4e-13 error\n",
        "- For problem 2, about 7 seconds and 3e-11 error"
      ],
      "metadata": {
        "id": "1dmpu3DOdgUG"
      }
    },
    {
      "cell_type": "code",
      "source": [
        "start = timer()\n",
        "\n",
        "Q,R = np.linalg.qr( A, mode=\"reduced\")\n",
        "Qtb = Q.T@b\n",
        "x   = sla.solve_triangular(R, Qtb )\n",
        "\n",
        "end = timer()\n",
        "print(f'Elapsed time is {end-start:.5f} seconds')\n",
        "err   = np.linalg.norm(x-xTrue,np.Inf)\n",
        "print(f'   and l_inf error is {err:.2e}')"
      ],
      "metadata": {
        "id": "7u-1PMFNWV1N"
      },
      "execution_count": null,
      "outputs": []
    },
    {
      "cell_type": "markdown",
      "source": [
        "#### Variant\n",
        "This is getting closer to what `lstsq` does \"under-the-hood\" except we're not going to pivot. When doing the QR decomposition, we don't need the Q matrix explicitly, we only need to apply it to a vector. Scipy has functions that do this for us\n",
        "- For problem 1, about 8.7 seconds and 2.3e-13 error\n",
        "- For problem 2, about 4.4 seconds and 1.8e-11 error"
      ],
      "metadata": {
        "id": "RHiuIL79dtW2"
      }
    },
    {
      "cell_type": "code",
      "source": [
        "start = timer()\n",
        "\n",
        "Qtb, R = sla.qr_multiply( A, b, mode=\"right\", pivoting=False )\n",
        "x      = sla.solve_triangular(R, Qtb )\n",
        "\n",
        "end = timer()\n",
        "print(f'Elapsed time is {end-start:.5f} seconds')\n",
        "err   = np.linalg.norm(x-xTrue,np.Inf)\n",
        "print(f'   and l_inf error is {err:.2e}')"
      ],
      "metadata": {
        "id": "28nDTYD3dsY2"
      },
      "execution_count": null,
      "outputs": []
    }
  ]
}