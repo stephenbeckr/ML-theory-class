{
 "cells": [
  {
   "cell_type": "markdown",
   "metadata": {
    "colab_type": "text",
    "id": "view-in-github"
   },
   "source": [
    "<a href=\"https://colab.research.google.com/github/stephenbeckr/ML-theory-class/blob/master/Code/Hoeffding_vs_Chebyshev.ipynb\" target=\"_parent\"><img src=\"https://colab.research.google.com/assets/colab-badge.svg\" alt=\"Open In Colab\"/></a>"
   ]
  },
  {
   "cell_type": "markdown",
   "metadata": {
    "id": "qlq2D0OMzOED"
   },
   "source": [
    "Demonstrates the difference in **tightness** between Hoeffding's inequality and Chebyshev's inequality\n",
    "\n",
    "We're looking at\n",
    "$$\\mathbb{P}\\left[ \\left| \\frac1m\\sum_{i=1}^m X_i \\right| > \\epsilon \\right]$$\n",
    "where each $X_i$ is iid Rademacher, i.e., each component independently has a 50-50 chance of being $+1$ or $-1$.\n",
    "\n",
    "See the notes: we can easily transform $X_i$ to standard Bernoulli, and then solve this in closed form using the CDF of the **binomial** distribution with $m$ trials and $.5$ success."
   ]
  },
  {
   "cell_type": "code",
   "execution_count": 13,
   "metadata": {
    "colab": {
     "base_uri": "https://localhost:8080/",
     "height": 86
    },
    "id": "F49bbSIxxoMS",
    "outputId": "067beee5-98f9-42fd-870f-3d8ce9c48493"
   },
   "outputs": [
    {
     "data": {
      "text/html": [
       "<span style=white-space:pre-wrap>'True answer:   6.86e-06'</span>"
      ],
      "text/latex": [
       "'True answer:   6.86e-06'"
      ],
      "text/markdown": [
       "<span style=white-space:pre-wrap>'True answer:   6.86e-06'</span>"
      ],
      "text/plain": [
       "[1] \"True answer:   6.86e-06\""
      ]
     },
     "metadata": {},
     "output_type": "display_data"
    },
    {
     "data": {
      "text/html": [
       "'Via simulation: 6.00e-06'"
      ],
      "text/latex": [
       "'Via simulation: 6.00e-06'"
      ],
      "text/markdown": [
       "'Via simulation: 6.00e-06'"
      ],
      "text/plain": [
       "[1] \"Via simulation: 6.00e-06\""
      ]
     },
     "metadata": {},
     "output_type": "display_data"
    },
    {
     "data": {
      "text/html": [
       "'Hoeffding\\'s bound: 9.08e-05'"
      ],
      "text/latex": [
       "'Hoeffding\\textbackslash{}'s bound: 9.08e-05'"
      ],
      "text/markdown": [
       "'Hoeffding\\'s bound: 9.08e-05'"
      ],
      "text/plain": [
       "[1] \"Hoeffding's bound: 9.08e-05\""
      ]
     },
     "metadata": {},
     "output_type": "display_data"
    },
    {
     "data": {
      "text/html": [
       "'Chebyshev\\'s bound: 5.00e-02'"
      ],
      "text/latex": [
       "'Chebyshev\\textbackslash{}'s bound: 5.00e-02'"
      ],
      "text/markdown": [
       "'Chebyshev\\'s bound: 5.00e-02'"
      ],
      "text/plain": [
       "[1] \"Chebyshev's bound: 5.00e-02\""
      ]
     },
     "metadata": {},
     "output_type": "display_data"
    }
   ],
   "source": [
    "m   <- 2000\n",
    "eps <- .1\n",
    "\n",
    "# m <- 100000\n",
    "# eps <- .02\n",
    "\n",
    "\n",
    "# Exact answer using the CDF of the binomial distribution\n",
    "q   <- m/2*(1+eps)\n",
    "delta <- pbinom(q, m, .5)\n",
    "trueAns <- 2*( 1-delta )\n",
    "sprintf( \"True answer:   %.2e\", trueAns )\n",
    "\n",
    "# Now via simulation\n",
    "\n",
    "nTrials <- 1e6\n",
    "trials <- 2*rbinom(nTrials,m,.5) - m\n",
    "simAns <- 2*length( trials[ trials >= m*eps] )/nTrials\n",
    "sprintf( \"Via simulation: %.2e\", simAns )\n",
    "\n",
    "# Now via Hoeffding\n",
    "Hoeff <- 2*exp( -m*eps^2/(2) )\n",
    "sprintf( \"Hoeffding's bound: %.2e\", Hoeff )\n",
    "\n",
    "# Now via Chebyshev\n",
    "Cheb <- 1/(m*eps^2)\n",
    "sprintf( \"Chebyshev's bound: %.2e\", Cheb )"
   ]
  },
  {
   "cell_type": "code",
   "execution_count": null,
   "metadata": {
    "id": "yWkTtBnZz97u"
   },
   "outputs": [],
   "source": []
  }
 ],
 "metadata": {
  "colab": {
   "authorship_tag": "ABX9TyPYgG6Bk61qrJIIENHGwO69",
   "include_colab_link": true,
   "name": "Hoeffding_vs_Chebyshev.ipynb",
   "provenance": []
  },
  "kernelspec": {
   "display_name": "Python 3",
   "language": "python",
   "name": "python3"
  },
  "language_info": {
   "codemirror_mode": {
    "name": "ipython",
    "version": 3
   },
   "file_extension": ".py",
   "mimetype": "text/x-python",
   "name": "python",
   "nbconvert_exporter": "python",
   "pygments_lexer": "ipython3",
   "version": "3.11.3"
  }
 },
 "nbformat": 4,
 "nbformat_minor": 4
}
