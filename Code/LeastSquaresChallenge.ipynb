{
 "cells": [
  {
   "cell_type": "markdown",
   "metadata": {
    "colab_type": "text",
    "id": "view-in-github"
   },
   "source": [
    "<a href=\"https://colab.research.google.com/github/stephenbeckr/ML-theory-class/blob/main/Code/LeastSquaresChallenge.ipynb\" target=\"_parent\"><img src=\"https://colab.research.google.com/assets/colab-badge.svg\" alt=\"Open In Colab\"/></a>"
   ]
  },
  {
   "cell_type": "code",
   "execution_count": null,
   "metadata": {
    "id": "cEN4W6cFVMBb"
   },
   "outputs": [],
   "source": [
    "import numpy as np\n",
    "import scipy.linalg as sla\n",
    "from timeit import default_timer as timer"
   ]
  },
  {
   "cell_type": "markdown",
   "metadata": {
    "id": "QZ1ViM_ra6MD"
   },
   "source": [
    "# Least squares challenge\n",
    "Least squares problems are dead simple, so you probably know how to solve them, right?\n",
    "\n",
    "Below are two challenges, one with a nearly square matric, the other with a very tall matrix. We've constructed the problem so that we know what the answer is (the all ones vector).  Your job is to find the right answer such that:\n",
    "- you have at least 10 digits of accuracy, e.g., $\\|\\hat{x}-x_\\text{true}\\|_\\infty \\le 10^{-10}$\n",
    "- Find the answer quickly:\n",
    "  - For problem 1, do this in under 10 seconds (for both Python/colab and Matlab)\n",
    "  - For problem 2, do this in under 10 seconds (Matlab) or 5 seconds (Python/colab)\n",
    "\n",
    "APPM 4490/5490 Theory of Machine Learning, Prof. Becker"
   ]
  },
  {
   "cell_type": "code",
   "execution_count": null,
   "metadata": {
    "id": "98zQtDuPVosC"
   },
   "outputs": [],
   "source": [
    "# Problem 1\n",
    "rng = np.random.default_rng(12345)\n",
    "\n",
    "n   = int(5e3)\n",
    "m   = n+1\n",
    "A       = rng.standard_normal( (m,n) )\n",
    "xTrue   = np.ones(n)\n",
    "b       = A@xTrue"
   ]
  },
  {
   "cell_type": "code",
   "execution_count": null,
   "metadata": {
    "id": "q0V5eMkeaGxV"
   },
   "outputs": [],
   "source": [
    "# Problem 2\n",
    "rng = np.random.default_rng(12345)\n",
    "\n",
    "n   = int(2e3)\n",
    "n2  = int(n/2)\n",
    "m   = int(1e4)\n",
    "A       = rng.standard_normal( (m,n2) )\n",
    "A       = np.hstack(  (A,A+1e-4*rng.standard_normal( (m,n2) )) )\n",
    "\n",
    "xTrue   = np.ones(n)\n",
    "b       = A@xTrue"
   ]
  },
  {
   "cell_type": "code",
   "execution_count": null,
   "metadata": {
    "id": "1HeyKXuHc48f"
   },
   "outputs": [],
   "source": [
    "start = timer()\n",
    "\n",
    "x   = ... [FILL IN YOUR METHOD HERE]\n",
    "\n",
    "end = timer()\n",
    "print(f'Elapsed time is {end-start:.5f} seconds')\n",
    "err   = np.linalg.norm(x-xTrue,np.Inf)\n",
    "print(f'   and l_inf error is {err:.2e}')"
   ]
  }
 ],
 "metadata": {
  "colab": {
   "authorship_tag": "ABX9TyOx29DLm41tqMm2SIr9BbAF",
   "include_colab_link": true,
   "provenance": []
  },
  "kernelspec": {
   "display_name": "Python 3",
   "language": "python",
   "name": "python3"
  },
  "language_info": {
   "codemirror_mode": {
    "name": "ipython",
    "version": 3
   },
   "file_extension": ".py",
   "mimetype": "text/x-python",
   "name": "python",
   "nbconvert_exporter": "python",
   "pygments_lexer": "ipython3",
   "version": "3.11.3"
  }
 },
 "nbformat": 4,
 "nbformat_minor": 4
}
